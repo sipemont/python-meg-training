{
 "cells": [
  {
   "cell_type": "markdown",
   "metadata": {},
   "source": [
    "### Hello user!\n",
    "\n",
    "Welcome to learn how to use Python and Jupyter Notebooks for your MEG data analyses, and congratulations for getting this far!\n",
    "This file is a Notebook file (_.ipynb_), which stores both text parts (\"Markdown\") and code in executable units called cells. You are now reading the first text cell of this Notebook. Right below, you can see a code cell. It is the simplest piece of code, printing the words _\"Hello world!\"_. Execute it, and if all goes well you can see those words as a response!"
   ]
  },
  {
   "cell_type": "code",
   "execution_count": 2,
   "metadata": {},
   "outputs": [
    {
     "name": "stdout",
     "output_type": "stream",
     "text": [
      "Hello world!\n"
     ]
    }
   ],
   "source": [
    "print(\"Hello world!\")"
   ]
  },
  {
   "cell_type": "markdown",
   "metadata": {},
   "source": [
    "You can do some things in Python without any additional packages, such as basic calculations: "
   ]
  },
  {
   "cell_type": "code",
   "execution_count": 4,
   "metadata": {},
   "outputs": [
    {
     "data": {
      "text/plain": [
       "8"
      ]
     },
     "execution_count": 4,
     "metadata": {},
     "output_type": "execute_result"
    }
   ],
   "source": [
    "2**3"
   ]
  },
  {
   "cell_type": "code",
   "execution_count": 5,
   "metadata": {},
   "outputs": [
    {
     "data": {
      "text/plain": [
       "'aaa'"
      ]
     },
     "execution_count": 5,
     "metadata": {},
     "output_type": "execute_result"
    }
   ],
   "source": [
    "3*\"a\""
   ]
  },
  {
   "cell_type": "markdown",
   "metadata": {},
   "source": [
    "However, to do something more fancy, we need to import modules. Here, we will use the fabulous _MNE-Python_ package."
   ]
  },
  {
   "cell_type": "code",
   "execution_count": 6,
   "metadata": {},
   "outputs": [],
   "source": [
    "import mne"
   ]
  },
  {
   "cell_type": "markdown",
   "metadata": {},
   "source": [
    "What just happened? Well, we told the Python interpreter that we want to use all the code that is available in MNE-Python. Technically, this created a _namespace_, which means that you can refer to the MNE module using the name _mne_ - for example like this:"
   ]
  },
  {
   "cell_type": "code",
   "execution_count": 10,
   "metadata": {},
   "outputs": [
    {
     "name": "stdout",
     "output_type": "stream",
     "text": [
      "Platform:         macOS-14.4.1-x86_64-i386-64bit\n",
      "Python:           3.10.8 | packaged by conda-forge | (main, Nov 22 2022, 08:27:35) [Clang 14.0.6 ]\n",
      "Executable:       /usr/local/anaconda3/envs/mne130/bin/python\n",
      "CPU:              i386: 12 cores\n",
      "Memory:           32.0 GB\n",
      "\n",
      "mne:              1.3.0\n",
      "numpy:            1.23.5 {OpenBLAS 0.3.21 with 12 threads}\n",
      "scipy:            1.10.0\n",
      "matplotlib:       3.6.2 {backend=module://matplotlib_inline.backend_inline}\n",
      "\n",
      "sklearn:          1.2.0\n",
      "numba:            0.56.4\n",
      "nibabel:          5.0.0\n",
      "nilearn:          0.10.0\n",
      "dipy:             1.5.0\n",
      "openmeeg:         2.5.5\n",
      "cupy:             Not found\n",
      "pandas:           1.5.2\n",
      "pyvista:          0.37.0 {OpenGL 4.1 ATI-5.5.17 via AMD Radeon Pro 5500M OpenGL Engine}\n",
      "pyvistaqt:        0.9.0\n",
      "ipyvtklink:       0.2.2\n",
      "vtk:              9.2.5\n",
      "qtpy:             2.3.0 {PyQt5=5.15.6}\n",
      "ipympl:           Not found\n",
      "pyqtgraph:        0.13.1\n",
      "pooch:            v1.6.0\n",
      "\n",
      "mne_bids:         Not found\n",
      "mne_nirs:         Not found\n",
      "mne_features:     Not found\n",
      "mne_qt_browser:   0.4.0\n",
      "mne_connectivity: Not found\n",
      "mne_icalabel:     Not found\n"
     ]
    }
   ],
   "source": [
    "mne.sys_info()"
   ]
  },
  {
   "cell_type": "markdown",
   "metadata": {},
   "source": [
    "By calling the function _sys_info_(), we asked mne in which kind of environment it currently lives. The output depends on the computer your Python is running in, as well as the version of MNE that is installed. In addition, the listed additional packages (such as matplotlib) affect MNE capabilities and behavior. \n",
    "\n",
    "**Note**: if you get an error indicating that the module is not installed, you need to install it on the computer / environment you are currently working on. Check [mne.tools](https://mne.tools/stable/install/index.html) and/or with your local IT specialist."
   ]
  }
 ],
 "metadata": {
  "kernelspec": {
   "display_name": "Python 3",
   "language": "python",
   "name": "python3"
  },
  "language_info": {
   "codemirror_mode": {
    "name": "ipython",
    "version": 3
   },
   "file_extension": ".py",
   "mimetype": "text/x-python",
   "name": "python",
   "nbconvert_exporter": "python",
   "pygments_lexer": "ipython3",
   "version": "3.10.8"
  }
 },
 "nbformat": 4,
 "nbformat_minor": 2
}
